{
 "cells": [
  {
   "cell_type": "markdown",
   "id": "cc6f04e2",
   "metadata": {},
   "source": [
    "# Capstone 3 - Automating Deferral Discrepancy Report"
   ]
  },
  {
   "cell_type": "markdown",
   "id": "fdd0780a",
   "metadata": {},
   "source": [
    "# Data Wrangling"
   ]
  },
  {
   "cell_type": "code",
   "execution_count": 1,
   "id": "0c4aef32",
   "metadata": {},
   "outputs": [],
   "source": [
    "#load modules\n",
    "\n",
    "import pandas as pd\n",
    "import numpy as np\n",
    "import matplotlib.pyplot as plt\n",
    "import seaborn as sns\n",
    "from pandas_profiling import ProfileReport \n",
    "from ipywidgets import widgets\n",
    "from sklearn.preprocessing import StandardScaler\n",
    "from sklearn.decomposition import PCA"
   ]
  },
  {
   "cell_type": "code",
   "execution_count": 2,
   "id": "41c24199",
   "metadata": {},
   "outputs": [
    {
     "data": {
      "text/html": [
       "<div>\n",
       "<style scoped>\n",
       "    .dataframe tbody tr th:only-of-type {\n",
       "        vertical-align: middle;\n",
       "    }\n",
       "\n",
       "    .dataframe tbody tr th {\n",
       "        vertical-align: top;\n",
       "    }\n",
       "\n",
       "    .dataframe thead th {\n",
       "        text-align: right;\n",
       "    }\n",
       "</style>\n",
       "<table border=\"1\" class=\"dataframe\">\n",
       "  <thead>\n",
       "    <tr style=\"text-align: right;\">\n",
       "      <th></th>\n",
       "      <th>send</th>\n",
       "      <th>Internal Comments</th>\n",
       "      <th>rundate</th>\n",
       "      <th>Comment</th>\n",
       "      <th>planid</th>\n",
       "      <th>partid</th>\n",
       "      <th>prperiodend</th>\n",
       "      <th>postdate</th>\n",
       "      <th>PayrollFileCompensation</th>\n",
       "      <th>PayrollFileDeferralAmt</th>\n",
       "      <th>...</th>\n",
       "      <th>PayrollFileCalculatedRate</th>\n",
       "      <th>InternalRecordsRate</th>\n",
       "      <th>PR%-internal%</th>\n",
       "      <th>calceffdate</th>\n",
       "      <th>InternalRequestDate</th>\n",
       "      <th>InternalRecordsRequestOrigin</th>\n",
       "      <th>InternalRecordsPctRequest</th>\n",
       "      <th>InternalRecordsDollarRequest</th>\n",
       "      <th>changeschedule</th>\n",
       "      <th>AnnualDeferralLimit</th>\n",
       "    </tr>\n",
       "  </thead>\n",
       "  <tbody>\n",
       "    <tr>\n",
       "      <th>0</th>\n",
       "      <td>no</td>\n",
       "      <td>no send, Effective date within 1 week of PR da...</td>\n",
       "      <td>1/11/2021</td>\n",
       "      <td>IMPORTANT:  Internal records show higher defer...</td>\n",
       "      <td>1</td>\n",
       "      <td>1</td>\n",
       "      <td>1/8/2021</td>\n",
       "      <td>1/8/2021</td>\n",
       "      <td>2080.80</td>\n",
       "      <td>62.42</td>\n",
       "      <td>...</td>\n",
       "      <td>3.00</td>\n",
       "      <td>6.00</td>\n",
       "      <td>-3.00</td>\n",
       "      <td>1/8/2021</td>\n",
       "      <td>1/8/2021</td>\n",
       "      <td>Participant Web</td>\n",
       "      <td>6.0</td>\n",
       "      <td>0.0</td>\n",
       "      <td>U</td>\n",
       "      <td>19500</td>\n",
       "    </tr>\n",
       "    <tr>\n",
       "      <th>1</th>\n",
       "      <td>no</td>\n",
       "      <td>no send, Effective date within 1 week of PR da...</td>\n",
       "      <td>1/11/2021</td>\n",
       "      <td>IMPORTANT:  Internal records show higher defer...</td>\n",
       "      <td>2</td>\n",
       "      <td>2</td>\n",
       "      <td>1/8/2021</td>\n",
       "      <td>1/8/2021</td>\n",
       "      <td>2273.08</td>\n",
       "      <td>272.77</td>\n",
       "      <td>...</td>\n",
       "      <td>12.00</td>\n",
       "      <td>13.00</td>\n",
       "      <td>-1.00</td>\n",
       "      <td>1/7/2021</td>\n",
       "      <td>1/7/2021</td>\n",
       "      <td>CSR</td>\n",
       "      <td>13.0</td>\n",
       "      <td>0.0</td>\n",
       "      <td>U</td>\n",
       "      <td>19500</td>\n",
       "    </tr>\n",
       "    <tr>\n",
       "      <th>2</th>\n",
       "      <td>no</td>\n",
       "      <td>no send, Effective date within 1 week of PR da...</td>\n",
       "      <td>1/11/2021</td>\n",
       "      <td>IMPORTANT:  Internal records show higher defer...</td>\n",
       "      <td>3</td>\n",
       "      <td>3</td>\n",
       "      <td>1/7/2021</td>\n",
       "      <td>1/7/2021</td>\n",
       "      <td>10416.87</td>\n",
       "      <td>644.00</td>\n",
       "      <td>...</td>\n",
       "      <td>6.18</td>\n",
       "      <td>7.86</td>\n",
       "      <td>-1.68</td>\n",
       "      <td>1/7/2021</td>\n",
       "      <td>1/7/2021</td>\n",
       "      <td>Participant Web</td>\n",
       "      <td>0.0</td>\n",
       "      <td>819.0</td>\n",
       "      <td>U</td>\n",
       "      <td>19500</td>\n",
       "    </tr>\n",
       "    <tr>\n",
       "      <th>3</th>\n",
       "      <td>no</td>\n",
       "      <td>no send, Effective date within 1 week of PR da...</td>\n",
       "      <td>1/11/2021</td>\n",
       "      <td>Internal records show lower deferral rate. Ple...</td>\n",
       "      <td>1</td>\n",
       "      <td>4</td>\n",
       "      <td>1/8/2021</td>\n",
       "      <td>1/8/2021</td>\n",
       "      <td>4615.38</td>\n",
       "      <td>692.31</td>\n",
       "      <td>...</td>\n",
       "      <td>15.00</td>\n",
       "      <td>6.00</td>\n",
       "      <td>9.00</td>\n",
       "      <td>1/7/2021</td>\n",
       "      <td>1/7/2021</td>\n",
       "      <td>Participant Web</td>\n",
       "      <td>6.0</td>\n",
       "      <td>0.0</td>\n",
       "      <td>U</td>\n",
       "      <td>19500</td>\n",
       "    </tr>\n",
       "    <tr>\n",
       "      <th>4</th>\n",
       "      <td>no</td>\n",
       "      <td>no send, Effective date within 1 week of PR da...</td>\n",
       "      <td>1/11/2021</td>\n",
       "      <td>Internal records show lower deferral rate. Ple...</td>\n",
       "      <td>1</td>\n",
       "      <td>5</td>\n",
       "      <td>1/8/2021</td>\n",
       "      <td>1/8/2021</td>\n",
       "      <td>1846.16</td>\n",
       "      <td>129.23</td>\n",
       "      <td>...</td>\n",
       "      <td>7.00</td>\n",
       "      <td>6.00</td>\n",
       "      <td>1.00</td>\n",
       "      <td>1/7/2021</td>\n",
       "      <td>1/7/2021</td>\n",
       "      <td>Participant Web</td>\n",
       "      <td>6.0</td>\n",
       "      <td>0.0</td>\n",
       "      <td>U</td>\n",
       "      <td>19500</td>\n",
       "    </tr>\n",
       "  </tbody>\n",
       "</table>\n",
       "<p>5 rows × 22 columns</p>\n",
       "</div>"
      ],
      "text/plain": [
       "  send                                  Internal Comments    rundate  \\\n",
       "0   no  no send, Effective date within 1 week of PR da...  1/11/2021   \n",
       "1   no  no send, Effective date within 1 week of PR da...  1/11/2021   \n",
       "2   no  no send, Effective date within 1 week of PR da...  1/11/2021   \n",
       "3   no  no send, Effective date within 1 week of PR da...  1/11/2021   \n",
       "4   no  no send, Effective date within 1 week of PR da...  1/11/2021   \n",
       "\n",
       "                                             Comment  planid  partid  \\\n",
       "0  IMPORTANT:  Internal records show higher defer...       1       1   \n",
       "1  IMPORTANT:  Internal records show higher defer...       2       2   \n",
       "2  IMPORTANT:  Internal records show higher defer...       3       3   \n",
       "3  Internal records show lower deferral rate. Ple...       1       4   \n",
       "4  Internal records show lower deferral rate. Ple...       1       5   \n",
       "\n",
       "  prperiodend  postdate  PayrollFileCompensation  PayrollFileDeferralAmt  ...  \\\n",
       "0    1/8/2021  1/8/2021                  2080.80                   62.42  ...   \n",
       "1    1/8/2021  1/8/2021                  2273.08                  272.77  ...   \n",
       "2    1/7/2021  1/7/2021                 10416.87                  644.00  ...   \n",
       "3    1/8/2021  1/8/2021                  4615.38                  692.31  ...   \n",
       "4    1/8/2021  1/8/2021                  1846.16                  129.23  ...   \n",
       "\n",
       "   PayrollFileCalculatedRate InternalRecordsRate  PR%-internal%  calceffdate  \\\n",
       "0                       3.00                6.00          -3.00     1/8/2021   \n",
       "1                      12.00               13.00          -1.00     1/7/2021   \n",
       "2                       6.18                7.86          -1.68     1/7/2021   \n",
       "3                      15.00                6.00           9.00     1/7/2021   \n",
       "4                       7.00                6.00           1.00     1/7/2021   \n",
       "\n",
       "   InternalRequestDate InternalRecordsRequestOrigin InternalRecordsPctRequest  \\\n",
       "0             1/8/2021              Participant Web                       6.0   \n",
       "1             1/7/2021                          CSR                      13.0   \n",
       "2             1/7/2021              Participant Web                       0.0   \n",
       "3             1/7/2021              Participant Web                       6.0   \n",
       "4             1/7/2021              Participant Web                       6.0   \n",
       "\n",
       "  InternalRecordsDollarRequest  changeschedule  AnnualDeferralLimit  \n",
       "0                          0.0               U                19500  \n",
       "1                          0.0               U                19500  \n",
       "2                        819.0               U                19500  \n",
       "3                          0.0               U                19500  \n",
       "4                          0.0               U                19500  \n",
       "\n",
       "[5 rows x 22 columns]"
      ]
     },
     "execution_count": 2,
     "metadata": {},
     "output_type": "execute_result"
    }
   ],
   "source": [
    "#importing csv raw data file\n",
    "\n",
    "df = pd.read_csv('../data/raw/RawData_DV_CapstoneThree.csv')\n",
    "df.head()"
   ]
  },
  {
   "cell_type": "code",
   "execution_count": 3,
   "id": "90b5f37e",
   "metadata": {},
   "outputs": [
    {
     "name": "stdout",
     "output_type": "stream",
     "text": [
      "<class 'pandas.core.frame.DataFrame'>\n",
      "RangeIndex: 32177 entries, 0 to 32176\n",
      "Data columns (total 22 columns):\n",
      " #   Column                        Non-Null Count  Dtype  \n",
      "---  ------                        --------------  -----  \n",
      " 0   send                          32177 non-null  object \n",
      " 1   Internal Comments             32177 non-null  object \n",
      " 2   rundate                       32177 non-null  object \n",
      " 3   Comment                       32177 non-null  object \n",
      " 4   planid                        32177 non-null  int64  \n",
      " 5   partid                        32177 non-null  int64  \n",
      " 6   prperiodend                   32177 non-null  object \n",
      " 7   postdate                      32177 non-null  object \n",
      " 8   PayrollFileCompensation       32177 non-null  float64\n",
      " 9   PayrollFileDeferralAmt        32177 non-null  float64\n",
      " 10  YearToDateDeferrals           32177 non-null  float64\n",
      " 11  pretaxrothcd                  32177 non-null  object \n",
      " 12  PayrollFileCalculatedRate     32177 non-null  float64\n",
      " 13  InternalRecordsRate           32177 non-null  float64\n",
      " 14  PR%-internal%                 32177 non-null  float64\n",
      " 15  calceffdate                   29670 non-null  object \n",
      " 16  InternalRequestDate           29670 non-null  object \n",
      " 17  InternalRecordsRequestOrigin  29670 non-null  object \n",
      " 18  InternalRecordsPctRequest     32177 non-null  float64\n",
      " 19  InternalRecordsDollarRequest  32177 non-null  float64\n",
      " 20  changeschedule                29637 non-null  object \n",
      " 21  AnnualDeferralLimit           32177 non-null  int64  \n",
      "dtypes: float64(8), int64(3), object(11)\n",
      "memory usage: 5.4+ MB\n"
     ]
    }
   ],
   "source": [
    "#getting a general sense of the data\n",
    "\n",
    "df.info()"
   ]
  },
  {
   "cell_type": "markdown",
   "id": "81587cfd",
   "metadata": {},
   "source": [
    "## Cleaning data"
   ]
  },
  {
   "cell_type": "code",
   "execution_count": 4,
   "id": "092856e6",
   "metadata": {},
   "outputs": [
    {
     "name": "stdout",
     "output_type": "stream",
     "text": [
      "<class 'pandas.core.frame.DataFrame'>\n",
      "RangeIndex: 32177 entries, 0 to 32176\n",
      "Data columns (total 22 columns):\n",
      " #   Column                   Non-Null Count  Dtype  \n",
      "---  ------                   --------------  -----  \n",
      " 0   send                     32177 non-null  object \n",
      " 1   internal_scrub_comments  32177 non-null  object \n",
      " 2   report_date              32177 non-null  object \n",
      " 3   discrepancy_type         32177 non-null  object \n",
      " 4   plan_cd                  32177 non-null  int64  \n",
      " 5   part_cd                  32177 non-null  int64  \n",
      " 6   pr_run_date              32177 non-null  object \n",
      " 7   pr_post_date             32177 non-null  object \n",
      " 8   pr_comp                  32177 non-null  float64\n",
      " 9   pr_def_amt               32177 non-null  float64\n",
      " 10  ytd_def_amt              32177 non-null  float64\n",
      " 11  pretax_roth_cd           32177 non-null  object \n",
      " 12  pr_def_pct               32177 non-null  float64\n",
      " 13  internal_pct_calc        32177 non-null  float64\n",
      " 14  diff_pr_internal_pct     32177 non-null  float64\n",
      " 15  rate_eff_date            29670 non-null  object \n",
      " 16  rate_req_date            29670 non-null  object \n",
      " 17  rate_req_origin_cd       29670 non-null  object \n",
      " 18  rate_req_if_pct          32177 non-null  float64\n",
      " 19  rate_req_if_amt          32177 non-null  float64\n",
      " 20  plan_change_schedule_cd  29637 non-null  object \n",
      " 21  annual_irs_limit         32177 non-null  int64  \n",
      "dtypes: float64(8), int64(3), object(11)\n",
      "memory usage: 5.4+ MB\n"
     ]
    }
   ],
   "source": [
    "#renaming columns\n",
    "\n",
    "df = df.rename(columns = {\n",
    "    'Internal Comments':'internal_scrub_comments', \n",
    "    'rundate':'report_date',\n",
    "    'Comment':'discrepancy_type',\n",
    "    'planid':'plan_cd',\n",
    "    'partid':'part_cd',\n",
    "    'prperiodend':'pr_run_date',\n",
    "    'postdate':'pr_post_date',\n",
    "    'PayrollFileCompensation':'pr_comp', \n",
    "    'PayrollFileDeferralAmt':'pr_def_amt', \n",
    "    'YearToDateDeferrals':'ytd_def_amt',\n",
    "    'pretaxrothcd':'pretax_roth_cd',\n",
    "    'PayrollFileCalculatedRate':'pr_def_pct', \n",
    "    'InternalRecordsRate':'internal_pct_calc', \n",
    "    'PR%-internal%':'diff_pr_internal_pct',\n",
    "    'calceffdate':'rate_eff_date',\n",
    "    'InternalRequestDate':'rate_req_date',\n",
    "    'InternalRecordsRequestOrigin':'rate_req_origin_cd',\n",
    "    'InternalRecordsPctRequest':'rate_req_if_pct', \n",
    "    'InternalRecordsDollarRequest':'rate_req_if_amt',\n",
    "    'changeschedule':'plan_change_schedule_cd',\n",
    "    'AnnualDeferralLimit':'annual_irs_limit'\n",
    "})\n",
    "\n",
    "df.info()"
   ]
  },
  {
   "cell_type": "code",
   "execution_count": 5,
   "id": "bba71641",
   "metadata": {},
   "outputs": [
    {
     "data": {
      "text/plain": [
       "send                          0\n",
       "internal_scrub_comments       0\n",
       "report_date                   0\n",
       "discrepancy_type              0\n",
       "plan_cd                       0\n",
       "part_cd                       0\n",
       "pr_run_date                   0\n",
       "pr_post_date                  0\n",
       "pr_comp                       0\n",
       "pr_def_amt                    0\n",
       "ytd_def_amt                   0\n",
       "pretax_roth_cd                0\n",
       "pr_def_pct                    0\n",
       "internal_pct_calc             0\n",
       "diff_pr_internal_pct          0\n",
       "rate_eff_date              2507\n",
       "rate_req_date              2507\n",
       "rate_req_origin_cd         2507\n",
       "rate_req_if_pct               0\n",
       "rate_req_if_amt               0\n",
       "plan_change_schedule_cd    2540\n",
       "annual_irs_limit              0\n",
       "dtype: int64"
      ]
     },
     "execution_count": 5,
     "metadata": {},
     "output_type": "execute_result"
    }
   ],
   "source": [
    "#dealing with missing data\n",
    "\n",
    "df.isna().sum()"
   ]
  },
  {
   "cell_type": "code",
   "execution_count": 6,
   "id": "d50a8f44",
   "metadata": {},
   "outputs": [
    {
     "data": {
      "text/plain": [
       "Internal has no participant request record.  We will update our records to match unless you notify us otherwise.    2507\n",
       "Name: discrepancy_type, dtype: int64"
      ]
     },
     "execution_count": 6,
     "metadata": {},
     "output_type": "execute_result"
    }
   ],
   "source": [
    "#the missing data in the 'rate_' columns makes sense\n",
    "#these are associated with the \"no internal request record\" discrepancy types\n",
    "\n",
    "null_df = df[df['rate_eff_date'].isna()]\n",
    "null_df['discrepancy_type'].value_counts()"
   ]
  },
  {
   "cell_type": "code",
   "execution_count": 7,
   "id": "134100d2",
   "metadata": {},
   "outputs": [
    {
     "data": {
      "text/plain": [
       "send                        0\n",
       "internal_scrub_comments     0\n",
       "report_date                 0\n",
       "discrepancy_type            0\n",
       "plan_cd                     0\n",
       "part_cd                     0\n",
       "pr_run_date                 0\n",
       "pr_post_date                0\n",
       "pr_comp                     0\n",
       "pr_def_amt                  0\n",
       "ytd_def_amt                 0\n",
       "pretax_roth_cd              0\n",
       "pr_def_pct                  0\n",
       "internal_pct_calc           0\n",
       "diff_pr_internal_pct        0\n",
       "rate_eff_date               0\n",
       "rate_req_date               0\n",
       "rate_req_origin_cd          0\n",
       "rate_req_if_pct             0\n",
       "rate_req_if_amt             0\n",
       "plan_change_schedule_cd    33\n",
       "annual_irs_limit            0\n",
       "dtype: int64"
      ]
     },
     "execution_count": 7,
     "metadata": {},
     "output_type": "execute_result"
    }
   ],
   "source": [
    "#we always send these records so I'm going to delete from the dataset for now since they don't need to be part of the scrub\n",
    "\n",
    "df.dropna(subset=['rate_eff_date'], inplace=True)\n",
    "df.isna().sum()"
   ]
  },
  {
   "cell_type": "code",
   "execution_count": 8,
   "id": "d4c721ff",
   "metadata": {},
   "outputs": [
    {
     "data": {
      "text/plain": [
       "send                       0\n",
       "internal_scrub_comments    0\n",
       "report_date                0\n",
       "discrepancy_type           0\n",
       "plan_cd                    0\n",
       "part_cd                    0\n",
       "pr_run_date                0\n",
       "pr_post_date               0\n",
       "pr_comp                    0\n",
       "pr_def_amt                 0\n",
       "ytd_def_amt                0\n",
       "pretax_roth_cd             0\n",
       "pr_def_pct                 0\n",
       "internal_pct_calc          0\n",
       "diff_pr_internal_pct       0\n",
       "rate_eff_date              0\n",
       "rate_req_date              0\n",
       "rate_req_origin_cd         0\n",
       "rate_req_if_pct            0\n",
       "rate_req_if_amt            0\n",
       "plan_change_schedule_cd    0\n",
       "annual_irs_limit           0\n",
       "dtype: int64"
      ]
     },
     "execution_count": 8,
     "metadata": {},
     "output_type": "execute_result"
    }
   ],
   "source": [
    "#I know from experience that the null values in the 'plan_change_schedule_cd' column are an internal programming error\n",
    "#This was a historical issue that has since been corrected, so I'm going to delete those records from the df\n",
    "\n",
    "df.dropna(subset=['plan_change_schedule_cd'], inplace=True)\n",
    "df.isna().sum()"
   ]
  },
  {
   "cell_type": "code",
   "execution_count": 9,
   "id": "e8905f75",
   "metadata": {},
   "outputs": [
    {
     "data": {
      "text/plain": [
       "False    29637\n",
       "dtype: int64"
      ]
     },
     "execution_count": 9,
     "metadata": {},
     "output_type": "execute_result"
    }
   ],
   "source": [
    "# checking for duplicate rows\n",
    "\n",
    "df_dup_check = df.duplicated()\n",
    "df_dup_check.value_counts()"
   ]
  },
  {
   "cell_type": "code",
   "execution_count": 10,
   "id": "02ef67cc",
   "metadata": {},
   "outputs": [
    {
     "name": "stdout",
     "output_type": "stream",
     "text": [
      "<class 'pandas.core.frame.DataFrame'>\n",
      "Int64Index: 29637 entries, 0 to 32175\n",
      "Data columns (total 22 columns):\n",
      " #   Column                   Non-Null Count  Dtype  \n",
      "---  ------                   --------------  -----  \n",
      " 0   send                     29637 non-null  object \n",
      " 1   internal_scrub_comments  29637 non-null  object \n",
      " 2   report_date              29637 non-null  object \n",
      " 3   discrepancy_type         29637 non-null  object \n",
      " 4   plan_cd                  29637 non-null  int64  \n",
      " 5   part_cd                  29637 non-null  int64  \n",
      " 6   pr_run_date              29637 non-null  object \n",
      " 7   pr_post_date             29637 non-null  object \n",
      " 8   pr_comp                  29637 non-null  float64\n",
      " 9   pr_def_amt               29637 non-null  float64\n",
      " 10  ytd_def_amt              29637 non-null  float64\n",
      " 11  pretax_roth_cd           29637 non-null  object \n",
      " 12  pr_def_pct               29637 non-null  float64\n",
      " 13  internal_pct_calc        29637 non-null  float64\n",
      " 14  diff_pr_internal_pct     29637 non-null  float64\n",
      " 15  rate_eff_date            29637 non-null  object \n",
      " 16  rate_req_date            29637 non-null  object \n",
      " 17  rate_req_origin_cd       29637 non-null  object \n",
      " 18  rate_req_if_pct          29637 non-null  float64\n",
      " 19  rate_req_if_amt          29637 non-null  float64\n",
      " 20  plan_change_schedule_cd  29637 non-null  object \n",
      " 21  annual_irs_limit         29637 non-null  int64  \n",
      "dtypes: float64(8), int64(3), object(11)\n",
      "memory usage: 5.2+ MB\n"
     ]
    }
   ],
   "source": [
    "df.info()"
   ]
  },
  {
   "cell_type": "code",
   "execution_count": 11,
   "id": "e0dfb2b3",
   "metadata": {},
   "outputs": [
    {
     "data": {
      "text/plain": [
       "IMPORTANT:  Internal records show higher deferral rate. Please review and let us know if our rate is out of date.    11683\n",
       "Internal records show lower deferral rate. Please review and let us know if our rate is out of date.                  6440\n",
       "Automatic Enrollment Not Implemented.  Did participant opt out?                                                       4062\n",
       "Deferrals may not have been deducted from all reported compensation.                                                  2764\n",
       "Automatic Escalation Not Implemented.  Did participant opt out?                                                       2154\n",
       "All plan compensation may not be reported.                                                                            1395\n",
       "No salary reported                                                                                                    1123\n",
       "Over 402g Limit. Please stop deferrals                                                                                  10\n",
       "Eligible for Catchup but Deferrals Stopped                                                                               6\n",
       "Name: discrepancy_type, dtype: int64"
      ]
     },
     "execution_count": 11,
     "metadata": {},
     "output_type": "execute_result"
    }
   ],
   "source": [
    "df['discrepancy_type'].value_counts()"
   ]
  },
  {
   "cell_type": "code",
   "execution_count": 12,
   "id": "c9766618",
   "metadata": {},
   "outputs": [
    {
     "data": {
      "text/plain": [
       "RateIssue_PR%_Low             11683\n",
       "RateIssue_PR%_High             6440\n",
       "AutoEnroll/Escalate_Missed     6216\n",
       "CompIssue_PR%_Low              2764\n",
       "CompIssue_PR%_High             1395\n",
       "No_Salary_Reported             1123\n",
       "Over_402g                        10\n",
       "Catchup_Eligible                  6\n",
       "Name: discrepancy_type, dtype: int64"
      ]
     },
     "execution_count": 12,
     "metadata": {},
     "output_type": "execute_result"
    }
   ],
   "source": [
    "# renaming the discrepancy_type categories and bin the two 'Automatic...' discrepancy types\n",
    "\n",
    "conditions = [\n",
    "    df['discrepancy_type'].str.contains('IMPORTANT:  Internal records show higher deferral rate. Please review and let us know if our rate is out of date.'),\n",
    "    df['discrepancy_type'].str.contains('Internal records show lower deferral rate. Please review and let us know if our rate is out of date.'),\n",
    "    df['discrepancy_type'].str.contains('Automatic Enrollment Not Implemented.  Did participant opt out?'),\n",
    "    df['discrepancy_type'].str.contains('Deferrals may not have been deducted from all reported compensation.'),\n",
    "    df['discrepancy_type'].str.contains('Automatic Escalation Not Implemented.  Did participant opt out?'),\n",
    "    df['discrepancy_type'].str.contains('All plan compensation may not be reported.'),\n",
    "    df['discrepancy_type'].str.contains('No salary reported'),\n",
    "    df['discrepancy_type'].str.contains('Over 402g Limit. Please stop deferrals'),\n",
    "    df['discrepancy_type'].str.contains('Eligible for Catchup but Deferrals Stopped')\n",
    "]\n",
    "\n",
    "choices = [\n",
    "    'RateIssue_PR%_Low', \n",
    "    'RateIssue_PR%_High', \n",
    "    'AutoEnroll/Escalate_Missed', \n",
    "    'CompIssue_PR%_Low', \n",
    "    'AutoEnroll/Escalate_Missed',\n",
    "    'CompIssue_PR%_High',\n",
    "    'No_Salary_Reported',\n",
    "    'Over_402g',\n",
    "    'Catchup_Eligible'\n",
    "]\n",
    "\n",
    "df['discrepancy_type'] = np.select(conditions, choices)\n",
    "df['discrepancy_type'].value_counts()"
   ]
  },
  {
   "cell_type": "markdown",
   "id": "a545971b",
   "metadata": {},
   "source": [
    "## Column Descriptions"
   ]
  },
  {
   "cell_type": "markdown",
   "id": "4bc0d5d9",
   "metadata": {},
   "source": [
    "### column name: send\n",
    "<br><b>description:</b> Classification. Is this a true discrepancy that should be sent to the client?"
   ]
  },
  {
   "cell_type": "code",
   "execution_count": 13,
   "id": "e8926615",
   "metadata": {},
   "outputs": [
    {
     "data": {
      "text/plain": [
       "count     29637\n",
       "unique        2\n",
       "top         yes\n",
       "freq      22461\n",
       "Name: send, dtype: object"
      ]
     },
     "execution_count": 13,
     "metadata": {},
     "output_type": "execute_result"
    }
   ],
   "source": [
    "df['send'].describe().T"
   ]
  },
  {
   "cell_type": "code",
   "execution_count": 14,
   "id": "63c9353a",
   "metadata": {},
   "outputs": [
    {
     "data": {
      "text/plain": [
       "yes    22461\n",
       "no      7176\n",
       "Name: send, dtype: int64"
      ]
     },
     "execution_count": 14,
     "metadata": {},
     "output_type": "execute_result"
    }
   ],
   "source": [
    "df['send'].value_counts()"
   ]
  },
  {
   "cell_type": "markdown",
   "id": "cfc3fe0c",
   "metadata": {},
   "source": [
    "### column name: internal_scrub_comments\n",
    "<br><b>description:</b> Classification, including reason why we should or shouldn't send discrepancy to client. "
   ]
  },
  {
   "cell_type": "code",
   "execution_count": 15,
   "id": "ab34ca2a",
   "metadata": {},
   "outputs": [
    {
     "data": {
      "text/plain": [
       "count                                                 29637\n",
       "unique                                                    9\n",
       "top       yes send, PR reflects different rate, request ...\n",
       "freq                                                  12899\n",
       "Name: internal_scrub_comments, dtype: object"
      ]
     },
     "execution_count": 15,
     "metadata": {},
     "output_type": "execute_result"
    }
   ],
   "source": [
    "df['internal_scrub_comments'].describe().T"
   ]
  },
  {
   "cell_type": "code",
   "execution_count": 16,
   "id": "3696b67b",
   "metadata": {},
   "outputs": [
    {
     "data": {
      "text/plain": [
       "yes send, PR reflects different rate, request date greater than 1 week from PR date              12899\n",
       "no send, Effective date within 1 week of PR date, probably timing issue                           5902\n",
       "yes send, Auto Enroll/Auto Escalation                                                             4474\n",
       "yes send, Compensation difference and internal request date more than 1 week prior to PR date     3949\n",
       "yes send, Salary not reported                                                                     1123\n",
       "no send, Possible rounding difference                                                             1013\n",
       "no send, InternalRecordsPctRequest greater than or equal to 90% & PR File Calc Rate > 70%          261\n",
       "yes send, Participant is over the annual 402g limit                                                 10\n",
       "yes send, Participant eligible for catch-up based on age requirement                                 6\n",
       "Name: internal_scrub_comments, dtype: int64"
      ]
     },
     "execution_count": 16,
     "metadata": {},
     "output_type": "execute_result"
    }
   ],
   "source": [
    "df['internal_scrub_comments'].value_counts()"
   ]
  },
  {
   "cell_type": "markdown",
   "id": "ca06a7e2",
   "metadata": {},
   "source": [
    "### column name: report_date\n",
    "<br><b>description:</b> This is the date that the report was generated. This column will not be used in the model as it is for informational purposes only."
   ]
  },
  {
   "cell_type": "code",
   "execution_count": 17,
   "id": "52769e52",
   "metadata": {},
   "outputs": [
    {
     "data": {
      "text/plain": [
       "1/19/2021    2336\n",
       "4/12/2021    2319\n",
       "2/8/2021     1800\n",
       "3/8/2021     1738\n",
       "2/16/2021    1645\n",
       "4/19/2021    1572\n",
       "1/25/2021    1518\n",
       "4/5/2021     1443\n",
       "5/10/2021    1387\n",
       "3/15/2021    1374\n",
       "2/22/2021    1334\n",
       "5/24/2021    1317\n",
       "4/26/2021    1314\n",
       "3/1/2021     1282\n",
       "2/1/2021     1273\n",
       "3/22/2021    1184\n",
       "3/29/2021    1180\n",
       "5/3/2021     1151\n",
       "5/17/2021    1061\n",
       "6/1/2021      862\n",
       "1/11/2021     547\n",
       "Name: report_date, dtype: int64"
      ]
     },
     "execution_count": 17,
     "metadata": {},
     "output_type": "execute_result"
    }
   ],
   "source": [
    "df['report_date'].value_counts()"
   ]
  },
  {
   "cell_type": "markdown",
   "id": "4937a9bf",
   "metadata": {},
   "source": [
    "### column name: discrepancy_type\n",
    "<br><b>description:</b> Original discrepancy category. "
   ]
  },
  {
   "cell_type": "code",
   "execution_count": 18,
   "id": "2e923dda",
   "metadata": {},
   "outputs": [
    {
     "data": {
      "text/plain": [
       "count                 29637\n",
       "unique                    8\n",
       "top       RateIssue_PR%_Low\n",
       "freq                  11683\n",
       "Name: discrepancy_type, dtype: object"
      ]
     },
     "execution_count": 18,
     "metadata": {},
     "output_type": "execute_result"
    }
   ],
   "source": [
    "df['discrepancy_type'].describe().T"
   ]
  },
  {
   "cell_type": "code",
   "execution_count": 19,
   "id": "bf589cc5",
   "metadata": {},
   "outputs": [
    {
     "data": {
      "text/plain": [
       "RateIssue_PR%_Low             11683\n",
       "RateIssue_PR%_High             6440\n",
       "AutoEnroll/Escalate_Missed     6216\n",
       "CompIssue_PR%_Low              2764\n",
       "CompIssue_PR%_High             1395\n",
       "No_Salary_Reported             1123\n",
       "Over_402g                        10\n",
       "Catchup_Eligible                  6\n",
       "Name: discrepancy_type, dtype: int64"
      ]
     },
     "execution_count": 19,
     "metadata": {},
     "output_type": "execute_result"
    }
   ],
   "source": [
    "df['discrepancy_type'].value_counts()"
   ]
  },
  {
   "cell_type": "markdown",
   "id": "cae20ea3",
   "metadata": {},
   "source": [
    "### column name: plan_cd\n",
    "<br><b>description:</b> Retirement plan identifier (coded for Capstone project). "
   ]
  },
  {
   "cell_type": "code",
   "execution_count": 20,
   "id": "c2e286e2",
   "metadata": {},
   "outputs": [
    {
     "data": {
      "text/plain": [
       "count    29637.000000\n",
       "mean       442.331309\n",
       "std        357.106691\n",
       "min          1.000000\n",
       "25%        152.000000\n",
       "50%        339.000000\n",
       "75%        613.000000\n",
       "max       1498.000000\n",
       "Name: plan_cd, dtype: float64"
      ]
     },
     "execution_count": 20,
     "metadata": {},
     "output_type": "execute_result"
    }
   ],
   "source": [
    "df['plan_cd'].describe().T"
   ]
  },
  {
   "cell_type": "code",
   "execution_count": 21,
   "id": "2fe2e348",
   "metadata": {},
   "outputs": [
    {
     "data": {
      "text/plain": [
       "154     728\n",
       "140     670\n",
       "509     651\n",
       "128     645\n",
       "459     588\n",
       "       ... \n",
       "312       1\n",
       "184       1\n",
       "1447      1\n",
       "1399      1\n",
       "1487      1\n",
       "Name: plan_cd, Length: 1468, dtype: int64"
      ]
     },
     "execution_count": 21,
     "metadata": {},
     "output_type": "execute_result"
    }
   ],
   "source": [
    "df['plan_cd'].value_counts()"
   ]
  },
  {
   "cell_type": "markdown",
   "id": "47a8289b",
   "metadata": {},
   "source": [
    "### column name: part_cd\n",
    "<br><b>description:</b> Participant identifier (coded for Capstone project)."
   ]
  },
  {
   "cell_type": "code",
   "execution_count": 22,
   "id": "5a1d52ac",
   "metadata": {},
   "outputs": [
    {
     "data": {
      "text/plain": [
       "count    29637.000000\n",
       "mean      4695.866451\n",
       "std       3328.283435\n",
       "min          1.000000\n",
       "25%       2137.000000\n",
       "50%       3758.000000\n",
       "75%       7229.000000\n",
       "max      12268.000000\n",
       "Name: part_cd, dtype: float64"
      ]
     },
     "execution_count": 22,
     "metadata": {},
     "output_type": "execute_result"
    }
   ],
   "source": [
    "df['part_cd'].describe().T"
   ]
  },
  {
   "cell_type": "code",
   "execution_count": 23,
   "id": "3e3c7c21",
   "metadata": {},
   "outputs": [
    {
     "data": {
      "text/plain": [
       "1651     38\n",
       "1653     38\n",
       "286      32\n",
       "3812     32\n",
       "1393     25\n",
       "         ..\n",
       "11715     1\n",
       "11699     1\n",
       "9650      1\n",
       "3495      1\n",
       "6171      1\n",
       "Name: part_cd, Length: 11774, dtype: int64"
      ]
     },
     "execution_count": 23,
     "metadata": {},
     "output_type": "execute_result"
    }
   ],
   "source": [
    "df['part_cd'].value_counts()"
   ]
  },
  {
   "cell_type": "markdown",
   "id": "7b094a0a",
   "metadata": {},
   "source": [
    "### column name: pr_run_date\n",
    "<br><b>description:</b> Payroll date of discrepancy. "
   ]
  },
  {
   "cell_type": "markdown",
   "id": "cec7d1ce",
   "metadata": {},
   "source": [
    "### column name: pr_post_date\n",
    "<br><b>description:</b> Date that payroll was posted in our system. The deferral verification reports are run weekly and pull all discrepancies for payrolls posted in our system in the prior week. "
   ]
  },
  {
   "cell_type": "markdown",
   "id": "96c92efd",
   "metadata": {},
   "source": [
    "### column name: pr_comp\n",
    "<br><b>description:</b> The participant's total compensation amount reported by the employer for that payroll. "
   ]
  },
  {
   "cell_type": "code",
   "execution_count": 24,
   "id": "71fbfe1a",
   "metadata": {},
   "outputs": [
    {
     "data": {
      "text/plain": [
       "count    2.963700e+04\n",
       "mean     4.744619e+03\n",
       "std      1.746304e+04\n",
       "min      0.000000e+00\n",
       "25%      1.207500e+03\n",
       "50%      2.212130e+03\n",
       "75%      4.120980e+03\n",
       "max      1.656154e+06\n",
       "Name: pr_comp, dtype: float64"
      ]
     },
     "execution_count": 24,
     "metadata": {},
     "output_type": "execute_result"
    }
   ],
   "source": [
    "df['pr_comp'].describe().T"
   ]
  },
  {
   "cell_type": "code",
   "execution_count": 25,
   "id": "3ce8bcae",
   "metadata": {},
   "outputs": [
    {
     "data": {
      "text/plain": [
       "0.00         1123\n",
       "5000.00       191\n",
       "2500.00       156\n",
       "2000.00       131\n",
       "1500.00       114\n",
       "             ... \n",
       "962.28          1\n",
       "125000.00       1\n",
       "1034.35         1\n",
       "173.46          1\n",
       "20875.00        1\n",
       "Name: pr_comp, Length: 14768, dtype: int64"
      ]
     },
     "execution_count": 25,
     "metadata": {},
     "output_type": "execute_result"
    }
   ],
   "source": [
    "df['pr_comp'].value_counts()"
   ]
  },
  {
   "cell_type": "markdown",
   "id": "1edcf1ba",
   "metadata": {},
   "source": [
    "### column name: pr_def_amt\n",
    "<br><b>description:</b> The participant's deferrals reported by the employer for that payroll."
   ]
  },
  {
   "cell_type": "code",
   "execution_count": 26,
   "id": "21054ce7",
   "metadata": {},
   "outputs": [
    {
     "data": {
      "text/plain": [
       "count    29637.000000\n",
       "mean       311.155716\n",
       "std        927.722899\n",
       "min          0.000000\n",
       "25%          0.000000\n",
       "50%         65.770000\n",
       "75%        250.000000\n",
       "max      25000.000000\n",
       "Name: pr_def_amt, dtype: float64"
      ]
     },
     "execution_count": 26,
     "metadata": {},
     "output_type": "execute_result"
    }
   ],
   "source": [
    "df['pr_def_amt'].describe().T"
   ]
  },
  {
   "cell_type": "code",
   "execution_count": 27,
   "id": "65e7b5c2",
   "metadata": {},
   "outputs": [
    {
     "data": {
      "text/plain": [
       "0.00       9501\n",
       "100.00      326\n",
       "1000.00     238\n",
       "750.00      237\n",
       "200.00      233\n",
       "           ... \n",
       "190.50        1\n",
       "568.85        1\n",
       "22.69         1\n",
       "146.39        1\n",
       "16.74         1\n",
       "Name: pr_def_amt, Length: 8733, dtype: int64"
      ]
     },
     "execution_count": 27,
     "metadata": {},
     "output_type": "execute_result"
    }
   ],
   "source": [
    "df['pr_def_amt'].value_counts()"
   ]
  },
  {
   "cell_type": "markdown",
   "id": "1db4a117",
   "metadata": {},
   "source": [
    "### column name: ytd_def_amt\n",
    "<br><b>description:</b> The total deferrals reported for the participant so far in the current year. "
   ]
  },
  {
   "cell_type": "code",
   "execution_count": 28,
   "id": "b3b33071",
   "metadata": {},
   "outputs": [
    {
     "data": {
      "text/plain": [
       "count    29637.000000\n",
       "mean      1490.915648\n",
       "std       2718.520872\n",
       "min          0.000000\n",
       "25%         52.800000\n",
       "50%        444.070000\n",
       "75%       1576.860000\n",
       "max      26000.000000\n",
       "Name: ytd_def_amt, dtype: float64"
      ]
     },
     "execution_count": 28,
     "metadata": {},
     "output_type": "execute_result"
    }
   ],
   "source": [
    "df['ytd_def_amt'].describe().T"
   ]
  },
  {
   "cell_type": "code",
   "execution_count": 29,
   "id": "608de61b",
   "metadata": {},
   "outputs": [
    {
     "data": {
      "text/plain": [
       "0.00       6102\n",
       "1000.00     128\n",
       "200.00      104\n",
       "600.00       99\n",
       "1500.00      96\n",
       "           ... \n",
       "400.52        1\n",
       "4145.91       1\n",
       "2846.40       1\n",
       "636.12        1\n",
       "3953.43       1\n",
       "Name: ytd_def_amt, Length: 15433, dtype: int64"
      ]
     },
     "execution_count": 29,
     "metadata": {},
     "output_type": "execute_result"
    }
   ],
   "source": [
    "df['ytd_def_amt'].value_counts()"
   ]
  },
  {
   "cell_type": "markdown",
   "id": "c3ef76c9",
   "metadata": {},
   "source": [
    "### column name: pretax_roth_cd\n",
    "<br><b>description:</b> Deferral type, Pretax or Roth."
   ]
  },
  {
   "cell_type": "code",
   "execution_count": 30,
   "id": "078c0df0",
   "metadata": {},
   "outputs": [
    {
     "data": {
      "text/plain": [
       "count      29637\n",
       "unique         2\n",
       "top       PreTax\n",
       "freq       23997\n",
       "Name: pretax_roth_cd, dtype: object"
      ]
     },
     "execution_count": 30,
     "metadata": {},
     "output_type": "execute_result"
    }
   ],
   "source": [
    "df['pretax_roth_cd'].describe().T"
   ]
  },
  {
   "cell_type": "code",
   "execution_count": 31,
   "id": "7cb183a8",
   "metadata": {},
   "outputs": [
    {
     "data": {
      "text/plain": [
       "PreTax    23997\n",
       "Roth       5640\n",
       "Name: pretax_roth_cd, dtype: int64"
      ]
     },
     "execution_count": 31,
     "metadata": {},
     "output_type": "execute_result"
    }
   ],
   "source": [
    "df['pretax_roth_cd'].value_counts()"
   ]
  },
  {
   "cell_type": "markdown",
   "id": "a5333358",
   "metadata": {},
   "source": [
    "### column name: pr_def_pct\n",
    "<br><b>description:</b> Percentage of compensation actually deferred in that payroll run (calculated). "
   ]
  },
  {
   "cell_type": "code",
   "execution_count": 32,
   "id": "e820c43b",
   "metadata": {},
   "outputs": [
    {
     "data": {
      "text/plain": [
       "count    2.963700e+04\n",
       "mean     6.646498e+02\n",
       "std      1.132706e+05\n",
       "min      0.000000e+00\n",
       "25%      0.000000e+00\n",
       "50%      3.000000e+00\n",
       "75%      6.980000e+00\n",
       "max      1.950000e+07\n",
       "Name: pr_def_pct, dtype: float64"
      ]
     },
     "execution_count": 32,
     "metadata": {},
     "output_type": "execute_result"
    }
   ],
   "source": [
    "df['pr_def_pct'].describe().T"
   ]
  },
  {
   "cell_type": "code",
   "execution_count": 33,
   "id": "ed33c175",
   "metadata": {},
   "outputs": [
    {
     "data": {
      "text/plain": [
       "0.00     10625\n",
       "3.00      1204\n",
       "5.00       859\n",
       "4.00       824\n",
       "2.00       726\n",
       "         ...  \n",
       "88.42        1\n",
       "47.60        1\n",
       "11.85        1\n",
       "21.52        1\n",
       "16.74        1\n",
       "Name: pr_def_pct, Length: 2311, dtype: int64"
      ]
     },
     "execution_count": 33,
     "metadata": {},
     "output_type": "execute_result"
    }
   ],
   "source": [
    "df['pr_def_pct'].value_counts()"
   ]
  },
  {
   "cell_type": "markdown",
   "id": "e8847de9",
   "metadata": {},
   "source": [
    "### column name: internal_pct_calc\n",
    "<br><b>description:</b> Percentage of compensation that should have been deferred in that payroll run, based on participant's elected contribution rate (calculated)."
   ]
  },
  {
   "cell_type": "code",
   "execution_count": 34,
   "id": "ad21c34d",
   "metadata": {},
   "outputs": [
    {
     "data": {
      "text/plain": [
       "count    29637.000000\n",
       "mean        10.710287\n",
       "std         19.950161\n",
       "min          0.000000\n",
       "25%          3.000000\n",
       "50%          5.000000\n",
       "75%          9.630000\n",
       "max        100.000000\n",
       "Name: internal_pct_calc, dtype: float64"
      ]
     },
     "execution_count": 34,
     "metadata": {},
     "output_type": "execute_result"
    }
   ],
   "source": [
    "df['internal_pct_calc'].describe().T"
   ]
  },
  {
   "cell_type": "code",
   "execution_count": 35,
   "id": "36dc6ed9",
   "metadata": {},
   "outputs": [
    {
     "data": {
      "text/plain": [
       "5.00     4005\n",
       "3.00     3746\n",
       "4.00     2938\n",
       "2.00     2420\n",
       "6.00     2051\n",
       "         ... \n",
       "13.04       1\n",
       "14.05       1\n",
       "9.30        1\n",
       "9.61        1\n",
       "10.20       1\n",
       "Name: internal_pct_calc, Length: 1437, dtype: int64"
      ]
     },
     "execution_count": 35,
     "metadata": {},
     "output_type": "execute_result"
    }
   ],
   "source": [
    "df['internal_pct_calc'].value_counts()"
   ]
  },
  {
   "cell_type": "markdown",
   "id": "a7f02ff3",
   "metadata": {},
   "source": [
    "### column name: diff_pr_internal_pct\n",
    "<br><b>description:</b> The calculated difference of pr_def_pct and internal_pct_calc (calculated)."
   ]
  },
  {
   "cell_type": "code",
   "execution_count": 36,
   "id": "bbdbf761",
   "metadata": {},
   "outputs": [
    {
     "data": {
      "text/plain": [
       "count    2.963700e+04\n",
       "mean     6.539396e+02\n",
       "std      1.132702e+05\n",
       "min     -1.000000e+02\n",
       "25%     -4.000000e+00\n",
       "50%     -1.320000e+00\n",
       "75%      2.000000e-02\n",
       "max      1.949991e+07\n",
       "Name: diff_pr_internal_pct, dtype: float64"
      ]
     },
     "execution_count": 36,
     "metadata": {},
     "output_type": "execute_result"
    }
   ],
   "source": [
    "df['diff_pr_internal_pct'].describe().T"
   ]
  },
  {
   "cell_type": "code",
   "execution_count": 37,
   "id": "312f0e51",
   "metadata": {},
   "outputs": [
    {
     "data": {
      "text/plain": [
       "-3.00     2475\n",
       "-1.00     2444\n",
       "-2.00     2090\n",
       "-5.00     1662\n",
       "-4.00     1497\n",
       "          ... \n",
       "-34.24       1\n",
       " 82.65       1\n",
       " 4.06        1\n",
       "-8.62        1\n",
       "-4.82        1\n",
       "Name: diff_pr_internal_pct, Length: 2546, dtype: int64"
      ]
     },
     "execution_count": 37,
     "metadata": {},
     "output_type": "execute_result"
    }
   ],
   "source": [
    "df['diff_pr_internal_pct'].value_counts()"
   ]
  },
  {
   "cell_type": "markdown",
   "id": "ae3956f8",
   "metadata": {},
   "source": [
    "### column name: rate_eff_date\n",
    "<br><b>description:</b> The calculated effective date of the participant's contribution rate. This column is calculated based on the plan_change_schedule_cd. \n",
    "\n",
    "Example - on 3/5/2021 a participant changes their rate in a plan that only allows changes on a monthly basis (plan_change_schedule_cd=M). The rate_eff_date would be 4/1/2021.  "
   ]
  },
  {
   "cell_type": "code",
   "execution_count": 38,
   "id": "dc8dc9b3",
   "metadata": {},
   "outputs": [
    {
     "data": {
      "text/plain": [
       "count        29637\n",
       "unique        1204\n",
       "top       1/1/2021\n",
       "freq          4066\n",
       "Name: rate_eff_date, dtype: object"
      ]
     },
     "execution_count": 38,
     "metadata": {},
     "output_type": "execute_result"
    }
   ],
   "source": [
    "df['rate_eff_date'].describe().T"
   ]
  },
  {
   "cell_type": "code",
   "execution_count": 39,
   "id": "b4ae819b",
   "metadata": {},
   "outputs": [
    {
     "data": {
      "text/plain": [
       "1/1/2021     4066\n",
       "1/1/2020     1209\n",
       "4/1/2021      640\n",
       "1/1/2019      570\n",
       "2/1/2021      523\n",
       "             ... \n",
       "1/15/2016       1\n",
       "11/5/2017       1\n",
       "8/28/2019       1\n",
       "5/4/2016        1\n",
       "12/4/2017       1\n",
       "Name: rate_eff_date, Length: 1204, dtype: int64"
      ]
     },
     "execution_count": 39,
     "metadata": {},
     "output_type": "execute_result"
    }
   ],
   "source": [
    "df['rate_eff_date'].value_counts()"
   ]
  },
  {
   "cell_type": "markdown",
   "id": "f9d5bd9b",
   "metadata": {},
   "source": [
    "### column name: rate_req_date\n",
    "<br><b>description:</b> Date that the participant requested the contribution rate in our system."
   ]
  },
  {
   "cell_type": "code",
   "execution_count": 40,
   "id": "eb4b19a6",
   "metadata": {},
   "outputs": [
    {
     "data": {
      "text/plain": [
       "count        29637\n",
       "unique        1323\n",
       "top       1/1/2021\n",
       "freq          3531\n",
       "Name: rate_req_date, dtype: object"
      ]
     },
     "execution_count": 40,
     "metadata": {},
     "output_type": "execute_result"
    }
   ],
   "source": [
    "df['rate_req_date'].describe().T"
   ]
  },
  {
   "cell_type": "code",
   "execution_count": 41,
   "id": "86f606cd",
   "metadata": {},
   "outputs": [
    {
     "data": {
      "text/plain": [
       "1/1/2021      3531\n",
       "1/1/2020      1048\n",
       "1/1/2019       459\n",
       "4/1/2021       415\n",
       "2/1/2021       313\n",
       "              ... \n",
       "10/24/2017       1\n",
       "3/8/2016         1\n",
       "10/7/2018        1\n",
       "12/14/2016       1\n",
       "9/8/2016         1\n",
       "Name: rate_req_date, Length: 1323, dtype: int64"
      ]
     },
     "execution_count": 41,
     "metadata": {},
     "output_type": "execute_result"
    }
   ],
   "source": [
    "df['rate_req_date'].value_counts()"
   ]
  },
  {
   "cell_type": "markdown",
   "id": "18ba53f9",
   "metadata": {},
   "source": [
    "### column name: rate_req_origin_cd\n",
    "<br><b>description:</b> How the rate was requested by the participant. We have many ways that a participant can make a contribution rate request. Most of these origin types are self explanatory. "
   ]
  },
  {
   "cell_type": "code",
   "execution_count": 42,
   "id": "f506a431",
   "metadata": {},
   "outputs": [
    {
     "data": {
      "text/plain": [
       "count               29637\n",
       "unique                  9\n",
       "top       Participant Web\n",
       "freq                14997\n",
       "Name: rate_req_origin_cd, dtype: object"
      ]
     },
     "execution_count": 42,
     "metadata": {},
     "output_type": "execute_result"
    }
   ],
   "source": [
    "df['rate_req_origin_cd'].describe().T"
   ]
  },
  {
   "cell_type": "code",
   "execution_count": 43,
   "id": "e26efbd9",
   "metadata": {},
   "outputs": [
    {
     "data": {
      "text/plain": [
       "Participant Web         14997\n",
       "Automatic Enrollment     4219\n",
       "Backdated                2871\n",
       "CSR                      2657\n",
       "Automatic Escalation     2436\n",
       "Advisor Web              1113\n",
       "Sponsor Web               777\n",
       "Data Import               461\n",
       "ThirdParty                106\n",
       "Name: rate_req_origin_cd, dtype: int64"
      ]
     },
     "execution_count": 43,
     "metadata": {},
     "output_type": "execute_result"
    }
   ],
   "source": [
    "df['rate_req_origin_cd'].value_counts()"
   ]
  },
  {
   "cell_type": "markdown",
   "id": "ce60a999",
   "metadata": {},
   "source": [
    "### column name: rate_req_if_pct\n",
    "<br><b>description:</b> The rate that was requested by the participant (if participant elected a percentage). "
   ]
  },
  {
   "cell_type": "code",
   "execution_count": 44,
   "id": "b5ace592",
   "metadata": {},
   "outputs": [
    {
     "data": {
      "text/plain": [
       "count    29637.000000\n",
       "mean        10.247043\n",
       "std        218.081889\n",
       "min          0.000000\n",
       "25%          1.000000\n",
       "50%          4.000000\n",
       "75%          6.000000\n",
       "max      12500.000000\n",
       "Name: rate_req_if_pct, dtype: float64"
      ]
     },
     "execution_count": 44,
     "metadata": {},
     "output_type": "execute_result"
    }
   ],
   "source": [
    "df['rate_req_if_pct'].describe().T"
   ]
  },
  {
   "cell_type": "code",
   "execution_count": 45,
   "id": "f899f08a",
   "metadata": {},
   "outputs": [
    {
     "data": {
      "text/plain": [
       "0.0    6803\n",
       "5.0    3981\n",
       "3.0    3750\n",
       "4.0    2923\n",
       "2.0    2408\n",
       "       ... \n",
       "9.3       1\n",
       "1.5       1\n",
       "4.1       1\n",
       "9.5       1\n",
       "1.4       1\n",
       "Name: rate_req_if_pct, Length: 90, dtype: int64"
      ]
     },
     "execution_count": 45,
     "metadata": {},
     "output_type": "execute_result"
    }
   ],
   "source": [
    "df['rate_req_if_pct'].value_counts()"
   ]
  },
  {
   "cell_type": "markdown",
   "id": "670e587d",
   "metadata": {},
   "source": [
    "### column name: rate_req_if_amt\n",
    "<br><b>description:</b> The rate that was requested by the participant (if participant elected a dollar amount)."
   ]
  },
  {
   "cell_type": "code",
   "execution_count": 46,
   "id": "429e6ff5",
   "metadata": {},
   "outputs": [
    {
     "data": {
      "text/plain": [
       "count    29637.000000\n",
       "mean       253.541482\n",
       "std       1840.027117\n",
       "min          0.000000\n",
       "25%          0.000000\n",
       "50%          0.000000\n",
       "75%          0.000000\n",
       "max      26000.000000\n",
       "Name: rate_req_if_amt, dtype: float64"
      ]
     },
     "execution_count": 46,
     "metadata": {},
     "output_type": "execute_result"
    }
   ],
   "source": [
    "df['rate_req_if_amt'].describe().T"
   ]
  },
  {
   "cell_type": "code",
   "execution_count": 47,
   "id": "3ea7337c",
   "metadata": {},
   "outputs": [
    {
     "data": {
      "text/plain": [
       "0.0        24697\n",
       "50.0         327\n",
       "100.0        318\n",
       "200.0        239\n",
       "1000.0       224\n",
       "           ...  \n",
       "14200.0        1\n",
       "64.0           1\n",
       "514.0          1\n",
       "16360.0        1\n",
       "620.0          1\n",
       "Name: rate_req_if_amt, Length: 413, dtype: int64"
      ]
     },
     "execution_count": 47,
     "metadata": {},
     "output_type": "execute_result"
    }
   ],
   "source": [
    "df['rate_req_if_amt'].value_counts()"
   ]
  },
  {
   "cell_type": "markdown",
   "id": "0f89e47d",
   "metadata": {},
   "source": [
    "### column name: plan_change_schedule_cd\n",
    "<br><b>description:</b> The contribution rate change frequency allowed by the plan. See definitions below.\n",
    "\n",
    "U = Daily\n",
    "\n",
    "M = Monthly\n",
    "\n",
    "Q = Quarterly (January 1, April 1, July 1, October 1)\n",
    "\n",
    "D = Dually (twice per year, January 1 and July 1)\n",
    "\n",
    "P = Periodically (at the plan's discretion, generally this is considered to be the same as Daily)\n",
    "\n",
    "A = Annually (January 1)"
   ]
  },
  {
   "cell_type": "code",
   "execution_count": 48,
   "id": "3f327e56",
   "metadata": {},
   "outputs": [
    {
     "data": {
      "text/plain": [
       "count     29637\n",
       "unique        6\n",
       "top           U\n",
       "freq      23021\n",
       "Name: plan_change_schedule_cd, dtype: object"
      ]
     },
     "execution_count": 48,
     "metadata": {},
     "output_type": "execute_result"
    }
   ],
   "source": [
    "df['plan_change_schedule_cd'].describe().T"
   ]
  },
  {
   "cell_type": "code",
   "execution_count": 49,
   "id": "549eddde",
   "metadata": {},
   "outputs": [
    {
     "data": {
      "text/plain": [
       "U    23021\n",
       "M     4551\n",
       "Q     1456\n",
       "D      363\n",
       "P      245\n",
       "A        1\n",
       "Name: plan_change_schedule_cd, dtype: int64"
      ]
     },
     "execution_count": 49,
     "metadata": {},
     "output_type": "execute_result"
    }
   ],
   "source": [
    "df['plan_change_schedule_cd'].value_counts()"
   ]
  },
  {
   "cell_type": "markdown",
   "id": "e778d1ec",
   "metadata": {},
   "source": [
    "### column name: annual_irs_limit\n",
    "<br><b>description:</b> The IRS imposes a limit on the amount that you can defer into your retirement plan each year. In 2021 the limit is $19,500 with an additional $6,500 for participants turning age 50 or older in the current year. "
   ]
  },
  {
   "cell_type": "code",
   "execution_count": 50,
   "id": "4b59c319",
   "metadata": {},
   "outputs": [
    {
     "data": {
      "text/plain": [
       "19500    19710\n",
       "26000     9927\n",
       "Name: annual_irs_limit, dtype: int64"
      ]
     },
     "execution_count": 50,
     "metadata": {},
     "output_type": "execute_result"
    }
   ],
   "source": [
    "df['annual_irs_limit'].value_counts()"
   ]
  },
  {
   "cell_type": "markdown",
   "id": "d1a3086d",
   "metadata": {},
   "source": [
    "# EDA"
   ]
  },
  {
   "cell_type": "code",
   "execution_count": 51,
   "id": "87b3d263",
   "metadata": {},
   "outputs": [],
   "source": [
    "# exploring data using pandas ProfileReport\n",
    "\n",
    "#profile = ProfileReport(df, title='Pandas Profiling Report')\n",
    "#profile.to_widgets()"
   ]
  },
  {
   "cell_type": "code",
   "execution_count": 52,
   "id": "b455b37e",
   "metadata": {},
   "outputs": [
    {
     "name": "stdout",
     "output_type": "stream",
     "text": [
      "<class 'pandas.core.frame.DataFrame'>\n",
      "Int64Index: 29637 entries, 0 to 32175\n",
      "Data columns (total 22 columns):\n",
      " #   Column                   Non-Null Count  Dtype  \n",
      "---  ------                   --------------  -----  \n",
      " 0   send                     29637 non-null  object \n",
      " 1   internal_scrub_comments  29637 non-null  object \n",
      " 2   report_date              29637 non-null  object \n",
      " 3   discrepancy_type         29637 non-null  object \n",
      " 4   plan_cd                  29637 non-null  int64  \n",
      " 5   part_cd                  29637 non-null  int64  \n",
      " 6   pr_run_date              29637 non-null  object \n",
      " 7   pr_post_date             29637 non-null  object \n",
      " 8   pr_comp                  29637 non-null  float64\n",
      " 9   pr_def_amt               29637 non-null  float64\n",
      " 10  ytd_def_amt              29637 non-null  float64\n",
      " 11  pretax_roth_cd           29637 non-null  object \n",
      " 12  pr_def_pct               29637 non-null  float64\n",
      " 13  internal_pct_calc        29637 non-null  float64\n",
      " 14  diff_pr_internal_pct     29637 non-null  float64\n",
      " 15  rate_eff_date            29637 non-null  object \n",
      " 16  rate_req_date            29637 non-null  object \n",
      " 17  rate_req_origin_cd       29637 non-null  object \n",
      " 18  rate_req_if_pct          29637 non-null  float64\n",
      " 19  rate_req_if_amt          29637 non-null  float64\n",
      " 20  plan_change_schedule_cd  29637 non-null  object \n",
      " 21  annual_irs_limit         29637 non-null  int64  \n",
      "dtypes: float64(8), int64(3), object(11)\n",
      "memory usage: 5.2+ MB\n"
     ]
    }
   ],
   "source": [
    "df.info()"
   ]
  },
  {
   "cell_type": "code",
   "execution_count": 53,
   "id": "fa1697d5",
   "metadata": {},
   "outputs": [
    {
     "data": {
      "image/png": "[encoded data removed]",
      "text/plain": [
       "<Figure size 432x288 with 1 Axes>"
      ]
     },
     "metadata": {
      "needs_background": "light"
     },
     "output_type": "display_data"
    },
    {
     "data": {
      "image/png": "[encoded data removed]",
      "text/plain": [
       "<Figure size 432x288 with 1 Axes>"
      ]
     },
     "metadata": {
      "needs_background": "light"
     },
     "output_type": "display_data"
    },
    {
     "data": {
      "image/png": "[encoded data removed]",
      "text/plain": [
       "<Figure size 432x288 with 1 Axes>"
      ]
     },
     "metadata": {
      "needs_background": "light"
     },
     "output_type": "display_data"
    },
    {
     "data": {
      "image/png": "[encoded data removed]",
      "text/plain": [
       "<Figure size 432x288 with 1 Axes>"
      ]
     },
     "metadata": {
      "needs_background": "light"
     },
     "output_type": "display_data"
    }
   ],
   "source": [
    "# investigating participant request records, I suspect that some cleaning needs to be done\n",
    "\n",
    "columns = ['pr_def_pct', 'internal_pct_calc', 'rate_req_if_pct', 'rate_req_if_amt']\n",
    "for col in columns:\n",
    "    sns.boxplot(x=col, data=df)\n",
    "    plt.show()"
   ]
  },
  {
   "cell_type": "code",
   "execution_count": 54,
   "id": "61d0cea2",
   "metadata": {},
   "outputs": [],
   "source": [
    "# I'm going to delete any PR rates > 100%\n",
    "# These outliers should be found and addressed prior to the scrub \n",
    "\n",
    "df = df[df['pr_def_pct'] <= 100]"
   ]
  },
  {
   "cell_type": "code",
   "execution_count": 55,
   "id": "4afa50b9",
   "metadata": {},
   "outputs": [],
   "source": [
    "# I'm going to delete any records with contribution rate requests > 100%\n",
    "# These outliers are internal input errors and should be corrected in our system prior to the scrub\n",
    "\n",
    "df = df[df['rate_req_if_pct'] <= 100]"
   ]
  },
  {
   "cell_type": "code",
   "execution_count": 56,
   "id": "29ca709b",
   "metadata": {},
   "outputs": [],
   "source": [
    "# I'm going to delete any records with contribution rate requests >= $19500 (the irs limit)\n",
    "# These outliers are internal input errors and should be corrected in our system prior to the scrub\n",
    "\n",
    "df = df[df['rate_req_if_amt'] < 19500]"
   ]
  },
  {
   "cell_type": "code",
   "execution_count": 57,
   "id": "3e01b335",
   "metadata": {},
   "outputs": [
    {
     "data": {
      "image/png": "[encoded data removed]",
      "text/plain": [
       "<Figure size 432x288 with 1 Axes>"
      ]
     },
     "metadata": {
      "needs_background": "light"
     },
     "output_type": "display_data"
    },
    {
     "data": {
      "image/png": "[encoded data removed]",
      "text/plain": [
       "<Figure size 432x288 with 1 Axes>"
      ]
     },
     "metadata": {
      "needs_background": "light"
     },
     "output_type": "display_data"
    },
    {
     "data": {
      "image/png": "[encoded data removed]",
      "text/plain": [
       "<Figure size 432x288 with 1 Axes>"
      ]
     },
     "metadata": {
      "needs_background": "light"
     },
     "output_type": "display_data"
    },
    {
     "data": {
      "image/png": "[encoded data removed]",
      "text/plain": [
       "<Figure size 432x288 with 1 Axes>"
      ]
     },
     "metadata": {
      "needs_background": "light"
     },
     "output_type": "display_data"
    }
   ],
   "source": [
    "columns = ['pr_def_pct', 'internal_pct_calc', 'rate_req_if_pct', 'rate_req_if_amt']\n",
    "for col in columns:\n",
    "    sns.boxplot(x=col, data=df)\n",
    "    plt.show()"
   ]
  },
  {
   "cell_type": "code",
   "execution_count": 58,
   "id": "eb11c5fa",
   "metadata": {},
   "outputs": [
    {
     "data": {
      "image/png": "[encoded data removed]",
      "text/plain": [
       "<Figure size 1440x1152 with 2 Axes>"
      ]
     },
     "metadata": {
      "needs_background": "light"
     },
     "output_type": "display_data"
    }
   ],
   "source": [
    "# heatmap\n",
    "\n",
    "plt.subplots(figsize=(20,16))\n",
    "sns.heatmap(df.corr(), annot=True, cmap='vlag')\n",
    "plt.show()"
   ]
  },
  {
   "cell_type": "code",
   "execution_count": 59,
   "id": "d951d999",
   "metadata": {},
   "outputs": [
    {
     "data": {
      "image/png": "[encoded data removed]",
      "text/plain": [
       "<Figure size 413.25x360 with 1 Axes>"
      ]
     },
     "metadata": {
      "needs_background": "light"
     },
     "output_type": "display_data"
    }
   ],
   "source": [
    "# discrepancy types\n",
    "\n",
    "sns.catplot(x='discrepancy_type', hue='send', data=df, kind='count')\n",
    "plt.xticks(rotation=90)\n",
    "plt.title('Distribution of Discrepancy Types')\n",
    "plt.show()"
   ]
  },
  {
   "cell_type": "code",
   "execution_count": 60,
   "id": "060cbf87",
   "metadata": {},
   "outputs": [],
   "source": [
    "# Saving data\n",
    "\n",
    "df = df.drop(columns=['internal_scrub_comments', 'report_date'])\n",
    "df.to_csv('../data/interim/DVdata.csv')"
   ]
  },
  {
   "cell_type": "code",
   "execution_count": null,
   "id": "1abe67a3",
   "metadata": {},
   "outputs": [],
   "source": []
  }
 ],
 "metadata": {
  "kernelspec": {
   "display_name": "Python 3",
   "language": "python",
   "name": "python3"
  },
  "language_info": {
   "codemirror_mode": {
    "name": "ipython",
    "version": 3
   },
   "file_extension": ".py",
   "mimetype": "text/x-python",
   "name": "python",
   "nbconvert_exporter": "python",
   "pygments_lexer": "ipython3",
   "version": "3.7.10"
  }
 },
 "nbformat": 4,
 "nbformat_minor": 5
}
